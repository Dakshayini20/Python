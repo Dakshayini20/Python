{
  "nbformat": 4,
  "nbformat_minor": 0,
  "metadata": {
    "colab": {
      "name": "day_2_26/12.ipynb",
      "provenance": [],
      "collapsed_sections": [],
      "mount_file_id": "1TgKCa5jD6t3PTHhbY-8KFfNGEeocr_jF",
      "authorship_tag": "ABX9TyMp09LNDuwRGpOA+cSaU6S/",
      "include_colab_link": true
    },
    "kernelspec": {
      "name": "python3",
      "display_name": "Python 3"
    }
  },
  "cells": [
    {
      "cell_type": "markdown",
      "metadata": {
        "id": "view-in-github",
        "colab_type": "text"
      },
      "source": [
        "<a href=\"https://colab.research.google.com/github/Dakshayini20/Yamaha/blob/main/day_2_26_12.ipynb\" target=\"_parent\"><img src=\"https://colab.research.google.com/assets/colab-badge.svg\" alt=\"Open In Colab\"/></a>"
      ]
    },
    {
      "cell_type": "code",
      "metadata": {
        "colab": {
          "base_uri": "https://localhost:8080/"
        },
        "id": "PI_nXGC9SCZB",
        "outputId": "156fcdd9-3145-41f8-f948-b8d1699c6250"
      },
      "source": [
        "a=10\r\n",
        "b=20\r\n",
        "c=a+b\r\n",
        "d=a-b\r\n",
        "e=a%b\r\n",
        "f=a*b\r\n",
        "h=a//b\r\n",
        "print(c,d,e,f,h)\r\n"
      ],
      "execution_count": null,
      "outputs": [
        {
          "output_type": "stream",
          "text": [
            "30 -10 10 200 0\n"
          ],
          "name": "stdout"
        }
      ]
    },
    {
      "cell_type": "code",
      "metadata": {
        "colab": {
          "base_uri": "https://localhost:8080/"
        },
        "id": "_j0pYQdySGie",
        "outputId": "1585aac6-8ed2-4954-e5ed-e4415478fb01"
      },
      "source": [
        "a=2\r\n",
        "b=3\r\n",
        "if(a<b):\r\n",
        "  print('p is lesser')\r\n",
        "else:\r\n",
        "    print(\"\r\n",
        "    p is greater\")\r\n"
      ],
      "execution_count": null,
      "outputs": [
        {
          "output_type": "stream",
          "text": [
            "p is lesser\n"
          ],
          "name": "stdout"
        }
      ]
    },
    {
      "cell_type": "markdown",
      "metadata": {
        "id": "6ixSIbeYSG7L"
      },
      "source": [
        ""
      ]
    },
    {
      "cell_type": "code",
      "metadata": {
        "colab": {
          "base_uri": "https://localhost:8080/"
        },
        "id": "03IOhPVmapSC",
        "outputId": "fe322848-f2ae-4966-99c1-1aa4b6b6f551"
      },
      "source": [
        "a=3\r\n",
        "b=2\r\n",
        "print('a&d is : ',a&b)\r\n",
        "print('a|d is : ',a|b)\r\n",
        "\r\n",
        "m=10\r\n",
        "n=20\r\n",
        "print('m&n is : ',m&n)\r\n",
        "print('m|n is : ',m|n)\r\n"
      ],
      "execution_count": null,
      "outputs": [
        {
          "output_type": "stream",
          "text": [
            "a&d is :  2\n",
            "a|d is :  3\n",
            "m&n is :  0\n",
            "m|n is :  30\n"
          ],
          "name": "stdout"
        }
      ]
    },
    {
      "cell_type": "code",
      "metadata": {
        "colab": {
          "base_uri": "https://localhost:8080/"
        },
        "id": "TT7wYsvta2y-",
        "outputId": "6d3367aa-0763-4e1d-a829-d4caa126d82c"
      },
      "source": [
        "a = 11\r\n",
        "a -= 1      #a=a-1\r\n",
        "print(a)\r\n"
      ],
      "execution_count": null,
      "outputs": [
        {
          "output_type": "stream",
          "text": [
            "10\n"
          ],
          "name": "stdout"
        }
      ]
    },
    {
      "cell_type": "code",
      "metadata": {
        "colab": {
          "base_uri": "https://localhost:8080/"
        },
        "id": "jfRJo_a4b125",
        "outputId": "9913c946-f168-4319-c1a8-6d796742be27"
      },
      "source": [
        "x=10\r\n",
        "z=x\r\n",
        "print(x is z)\r\n",
        "print(\"x is z\")\r\n"
      ],
      "execution_count": null,
      "outputs": [
        {
          "output_type": "stream",
          "text": [
            "False\n",
            "x is z\n",
            "True\n",
            "False\n"
          ],
          "name": "stdout"
        }
      ]
    },
    {
      "cell_type": "code",
      "metadata": {
        "colab": {
          "base_uri": "https://localhost:8080/"
        },
        "id": "v9Y9TSd_deCe",
        "outputId": "2da9cdea-e139-4c79-c9a4-7cb800d1cfd3"
      },
      "source": [
        "x = \"apple\"\r\n",
        "print(\"apple\" in x)\r\n",
        "print(\"apple\" not in x)\r\n"
      ],
      "execution_count": null,
      "outputs": [
        {
          "output_type": "stream",
          "text": [
            "True\n",
            "False\n"
          ],
          "name": "stdout"
        }
      ]
    },
    {
      "cell_type": "code",
      "metadata": {
        "id": "9u9gMXx5gPnW",
        "colab": {
          "base_uri": "https://localhost:8080/"
        },
        "outputId": "46b74552-cebd-4f83-e1ef-b32ee30fc781"
      },
      "source": [
        "x=float(input(\"enter a number\"))\r\n",
        "y=float(input(\"enter a number\"))\r\n",
        "z = (x+y)/2                         #average of x and y\r\n",
        "print(\"Average is :\" ,z)"
      ],
      "execution_count": null,
      "outputs": [
        {
          "output_type": "stream",
          "text": [
            "enter a number2\n",
            "enter a number2\n",
            "Average is : 2.0\n"
          ],
          "name": "stdout"
        }
      ]
    },
    {
      "cell_type": "code",
      "metadata": {
        "colab": {
          "base_uri": "https://localhost:8080/"
        },
        "id": "hhEjb1t1ibDs",
        "outputId": "5c72cc2e-2a4c-47da-8ecc-99e3726d93fb"
      },
      "source": [
        "print(type(123))\r\n",
        "print(type(12.3))\r\n"
      ],
      "execution_count": null,
      "outputs": [
        {
          "output_type": "stream",
          "text": [
            "<class 'int'>\n",
            "<class 'float'>\n",
            "<class 'int'>\n"
          ],
          "name": "stdout"
        }
      ]
    },
    {
      "cell_type": "code",
      "metadata": {
        "colab": {
          "base_uri": "https://localhost:8080/"
        },
        "id": "Ng11sSW0mqWC",
        "outputId": "275551f3-a53c-4f9a-b631-fcbb01bc031f"
      },
      "source": [
        "a =1\r\n",
        "b = 2.2\r\n",
        "c = a+b\r\n",
        "print(\"datatype\", type(a))\r\n",
        "print(\"datatype\", type(b))\r\n",
        "print(\"value of c :\", c)\r\n",
        "print(\"datatype\", type(c))\r\n"
      ],
      "execution_count": null,
      "outputs": [
        {
          "output_type": "stream",
          "text": [
            "datattype <class 'int'>\n",
            "datattype <class 'float'>\n",
            "value of c : 3.2\n",
            "datatype <class 'float'>\n"
          ],
          "name": "stdout"
        }
      ]
    },
    {
      "cell_type": "code",
      "metadata": {
        "colab": {
          "base_uri": "https://localhost:8080/"
        },
        "id": "eRriHFPyqOgP",
        "outputId": "c9873262-cd42-4ad1-ddb5-b72eb0386300"
      },
      "source": [
        "a =1\r\n",
        "b = '10'\r\n",
        "print(type(a))\r\n",
        "print(type(b))\r\n",
        "b = int(b)\r\n",
        "sum = a+b\r\n",
        "print(sum, type(sum))"
      ],
      "execution_count": null,
      "outputs": [
        {
          "output_type": "stream",
          "text": [
            "<class 'int'>\n",
            "<class 'str'>\n",
            "11 <class 'int'>\n"
          ],
          "name": "stdout"
        }
      ]
    },
    {
      "cell_type": "code",
      "metadata": {
        "id": "VupxptYbsAR_"
      },
      "source": [
        ""
      ],
      "execution_count": null,
      "outputs": []
    }
  ]
}