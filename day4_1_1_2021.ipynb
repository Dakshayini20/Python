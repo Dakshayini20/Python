{
  "nbformat": 4,
  "nbformat_minor": 0,
  "metadata": {
    "colab": {
      "name": "day4_1/1/2021.ipynb",
      "provenance": [],
      "collapsed_sections": [],
      "authorship_tag": "ABX9TyMxstHzoD73NJRsCWALk6r4",
      "include_colab_link": true
    },
    "kernelspec": {
      "name": "python3",
      "display_name": "Python 3"
    }
  },
  "cells": [
    {
      "cell_type": "markdown",
      "metadata": {
        "id": "view-in-github",
        "colab_type": "text"
      },
      "source": [
        "<a href=\"https://colab.research.google.com/github/Dakshayini20/Yamaha/blob/main/day4_1_1_2021.ipynb\" target=\"_parent\"><img src=\"https://colab.research.google.com/assets/colab-badge.svg\" alt=\"Open In Colab\"/></a>"
      ]
    },
    {
      "cell_type": "markdown",
      "metadata": {
        "id": "h1lqOvUnP-Cv"
      },
      "source": [
        "## DICTIONARY"
      ]
    },
    {
      "cell_type": "code",
      "metadata": {
        "colab": {
          "base_uri": "https://localhost:8080/"
        },
        "id": "tGWPmvQNoVf-",
        "outputId": "dbaaec57-f31d-4407-c127-c35654cf7c74"
      },
      "source": [
        "d2 = {\"Meera\":\"Maggi\" , \"Riya\":\"Juice\" , \"priya\":\"tea\"} #concepts of dictionary\r\n",
        "print(d2)\r\n",
        "print(d2[\"Riya\"])\r\n",
        "d2[\"sima\"] = \"burgar\"\r\n",
        "print(d2)\r\n",
        "print(d2.keys())"
      ],
      "execution_count": null,
      "outputs": [
        {
          "output_type": "stream",
          "text": [
            "{'Meera': 'Maggi', 'Riya': 'Juice', 'priya': 'tea'}\n",
            "Juice\n",
            "{'Meera': 'Maggi', 'Riya': 'Juice', 'priya': 'tea', 'sima': 'burgar'}\n",
            "dict_keys(['Meera', 'Riya', 'priya', 'sima'])\n"
          ],
          "name": "stdout"
        }
      ]
    },
    {
      "cell_type": "code",
      "metadata": {
        "colab": {
          "base_uri": "https://localhost:8080/"
        },
        "id": "sHeqMMdVpFA0",
        "outputId": "c0a20b69-3f90-4bce-99d9-165798d3c152"
      },
      "source": [
        "var1 = 1\r\n",
        "var2 = 2\r\n",
        "var3 = int(input(\"Enter a nmber : \"))\r\n",
        "if var3 > var2 :\r\n",
        "  print(\"Greater is var3\")\r\n",
        "elif var1 == var3 :  \r\n",
        "  print(\"var1 and var3 same\")\r\n",
        "else :\r\n",
        "  print(\"var3 is smaller\") "
      ],
      "execution_count": null,
      "outputs": [
        {
          "output_type": "stream",
          "text": [
            "Enter a nmber : 5\n",
            "Greater is var3\n"
          ],
          "name": "stdout"
        }
      ]
    },
    {
      "cell_type": "code",
      "metadata": {
        "colab": {
          "base_uri": "https://localhost:8080/"
        },
        "id": "RmP3FxXhqqRh",
        "outputId": "638f7b50-ec87-4593-a11a-2036dbfb1472"
      },
      "source": [
        "list1 = [1,2,3]\r\n",
        "if 1 in list1 :\r\n",
        "   print(\"it's in list\")\r\n",
        "if 1 not in list1:\r\n",
        "   print(\"it's not in list\")\r\n"
      ],
      "execution_count": null,
      "outputs": [
        {
          "output_type": "stream",
          "text": [
            "it's in list\n"
          ],
          "name": "stdout"
        }
      ]
    }
  ]
}