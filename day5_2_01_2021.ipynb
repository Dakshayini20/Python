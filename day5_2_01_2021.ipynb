{
  "nbformat": 4,
  "nbformat_minor": 0,
  "metadata": {
    "colab": {
      "name": "day5_2/01/2021.ipynb",
      "provenance": [],
      "authorship_tag": "ABX9TyNMiPAtIjgoD+egyMUJtR8s",
      "include_colab_link": true
    },
    "kernelspec": {
      "name": "python3",
      "display_name": "Python 3"
    }
  },
  "cells": [
    {
      "cell_type": "markdown",
      "metadata": {
        "id": "view-in-github",
        "colab_type": "text"
      },
      "source": [
        "<a href=\"https://colab.research.google.com/github/Dakshayini20/Yamaha/blob/main/day5_2_01_2021.ipynb\" target=\"_parent\"><img src=\"https://colab.research.google.com/assets/colab-badge.svg\" alt=\"Open In Colab\"/></a>"
      ]
    },
    {
      "cell_type": "markdown",
      "metadata": {
        "id": "gw2mdZyNQaTk"
      },
      "source": [
        "## BUILT IN FUNCTION"
      ]
    },
    {
      "cell_type": "code",
      "metadata": {
        "colab": {
          "base_uri": "https://localhost:8080/"
        },
        "id": "psk5tFNvOXYK",
        "outputId": "63c08573-bbb9-4132-9f9f-81c5e66e4675"
      },
      "source": [
        "#Program Using BUILT IN FUNCTION\r\n",
        "a = 2\r\n",
        "b = 4\r\n",
        "c = sum((a,b))          #sum() is a built in function\r\n",
        "print(c)"
      ],
      "execution_count": null,
      "outputs": [
        {
          "output_type": "stream",
          "text": [
            "6\n"
          ],
          "name": "stdout"
        }
      ]
    },
    {
      "cell_type": "markdown",
      "metadata": {
        "id": "28J1yIXCQZHp"
      },
      "source": [
        "## User Defined Function"
      ]
    },
    {
      "cell_type": "code",
      "metadata": {
        "colab": {
          "base_uri": "https://localhost:8080/"
        },
        "id": "t5VYNU6oPWti",
        "outputId": "8ef68ca3-5068-4367-90b9-f2f6f32637ee"
      },
      "source": [
        "#Program For User Defined Function\r\n",
        "def Wish():    #function declaration\r\n",
        "  \"\"\" Greeting HAPPY NEW YEAR\"\"\"              #doc string\r\n",
        "  print(\"Happy New Year\")\r\n",
        "Wish()         #function calling\r\n",
        "print(Wish.__doc__)                           #printing doc sting"
      ],
      "execution_count": null,
      "outputs": [
        {
          "output_type": "stream",
          "text": [
            "Happy New Year\n",
            " Greeting HAPPY NEW YEAR\n"
          ],
          "name": "stdout"
        }
      ]
    },
    {
      "cell_type": "markdown",
      "metadata": {
        "id": "ppyA6EZpQk85"
      },
      "source": [
        "# CONCEPT OF DOC-STRINGS"
      ]
    },
    {
      "cell_type": "code",
      "metadata": {
        "colab": {
          "base_uri": "https://localhost:8080/"
        },
        "id": "v909ww1aQRel",
        "outputId": "1e5f15bf-25c2-4056-d9b5-26c5a672ff6e"
      },
      "source": [
        "def newfun(a,b):        #passing arguments to user defined function\r\n",
        " \"\"\" This is a function calculates the product of two numbers\"\"\"   #doc string(gives the adstract of the functon)\r\n",
        " multiply = a*b\r\n",
        " print(multiply)\r\n",
        " return multiply        #return multiply\r\n",
        "\r\n",
        "s = newfun(3,5)\r\n",
        "print(s)\r\n",
        "print(newfun.__doc__)"
      ],
      "execution_count": null,
      "outputs": [
        {
          "output_type": "stream",
          "text": [
            "15\n",
            "15\n",
            " This is a function calculates the product of two numbers\n"
          ],
          "name": "stdout"
        }
      ]
    },
    {
      "cell_type": "markdown",
      "metadata": {
        "id": "gTTlXVjkQtr1"
      },
      "source": [
        "## TRY and EXCEPTION"
      ]
    },
    {
      "cell_type": "code",
      "metadata": {
        "colab": {
          "base_uri": "https://localhost:8080/"
        },
        "id": "tTogYKdQRo1g",
        "outputId": "ee21951c-8250-4e9d-cc0d-c8bd032ee67f"
      },
      "source": [
        "print(\"Enter the number\")     \r\n",
        "num1 = input()\r\n",
        "print(\"Enter the number\")\r\n",
        "num2 = input()\r\n",
        "try:                        #TRY and EXCEPTION\r\n",
        "  print(\"Sum is : \", int(num1) + int(num2))  #type casting\r\n",
        "except Exception as e :\r\n",
        "  print(e)"
      ],
      "execution_count": null,
      "outputs": [
        {
          "output_type": "stream",
          "text": [
            "Enter the number\n",
            "5\n",
            "Enter the number\n",
            "8\n",
            "Sum is :  13\n"
          ],
          "name": "stdout"
        }
      ]
    },
    {
      "cell_type": "markdown",
      "metadata": {
        "id": "opY0cTQMQzwx"
      },
      "source": [
        "## Global variable and Local variable"
      ]
    },
    {
      "cell_type": "code",
      "metadata": {
        "colab": {
          "base_uri": "https://localhost:8080/"
        },
        "id": "i5Yo_7Yt7_it",
        "outputId": "23fc169d-eea5-4f81-a5d1-43c5edbce0b7"
      },
      "source": [
        "x = 5                      #global variable\r\n",
        "def fun():\r\n",
        "     x = 10                #local variable\r\n",
        "     print(\"Local variable is :\",x)\r\n",
        "fun()\r\n",
        "print(\"global variable is :\",x)"
      ],
      "execution_count": null,
      "outputs": [
        {
          "output_type": "stream",
          "text": [
            "Local variable is : 10\n",
            "global variable is : 5\n"
          ],
          "name": "stdout"
        }
      ]
    },
    {
      "cell_type": "markdown",
      "metadata": {
        "id": "gQneYDVHRU1r"
      },
      "source": [
        "## LAMBDA function"
      ]
    },
    {
      "cell_type": "code",
      "metadata": {
        "colab": {
          "base_uri": "https://localhost:8080/"
        },
        "id": "5lraDjWx8NRW",
        "outputId": "b40bfebc-5c10-4a1d-d1ba-557f21ff5664"
      },
      "source": [
        "#program using LAMBDA function\r\n",
        "Quotient = lambda a,b : a/b\r\n",
        "Reminder = lambda a,b : a%b\r\n",
        "print(Quotient(9,3))\r\n",
        "print(Reminder(9,3))"
      ],
      "execution_count": null,
      "outputs": [
        {
          "output_type": "stream",
          "text": [
            "3.0\n",
            "0\n"
          ],
          "name": "stdout"
        }
      ]
    },
    {
      "cell_type": "markdown",
      "metadata": {
        "id": "5nvB2fvURIpU"
      },
      "source": [
        "## RECURSION"
      ]
    },
    {
      "cell_type": "code",
      "metadata": {
        "colab": {
          "base_uri": "https://localhost:8080/"
        },
        "id": "XsxujCcB909m",
        "outputId": "196c3747-7f12-46eb-d3a5-73dc7b621b85"
      },
      "source": [
        "\r\n",
        "# program of RECURSION function\r\n",
        "def factorial_recursion(n):\r\n",
        "    if n == 1 or n == 0 :\r\n",
        "        return 1\r\n",
        "    else:\r\n",
        "        return n*factorial_recursion(n-1)\r\n",
        "number = int(input(\"Enter the Number :\"))\r\n",
        "print(\"FACTORIAL : \", factorial_recursion(number ))\r\n"
      ],
      "execution_count": null,
      "outputs": [
        {
          "output_type": "stream",
          "text": [
            "Enter the Number :9\n",
            "FACTORIAL :  362880\n"
          ],
          "name": "stdout"
        }
      ]
    },
    {
      "cell_type": "markdown",
      "metadata": {
        "id": "ZOaavmTMRC-m"
      },
      "source": [
        "## F- string"
      ]
    },
    {
      "cell_type": "code",
      "metadata": {
        "colab": {
          "base_uri": "https://localhost:8080/"
        },
        "id": "PTa5vnQm_dhs",
        "outputId": "b3ddd967-5cc8-44c9-a8f1-d460747763e3"
      },
      "source": [
        "#Program using F- string\r\n",
        "course = \"Python\"\r\n",
        "company = \"Tech Table\"\r\n",
        "Batch = 1\r\n",
        "print(f\"I am Learning {course} at {company} in batch number {Batch}\")"
      ],
      "execution_count": null,
      "outputs": [
        {
          "output_type": "stream",
          "text": [
            "I am Learning Python at Tech Table in batch number 1\n"
          ],
          "name": "stdout"
        }
      ]
    }
  ]
}