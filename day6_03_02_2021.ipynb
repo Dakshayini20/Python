{
  "nbformat": 4,
  "nbformat_minor": 0,
  "metadata": {
    "colab": {
      "name": "day6_03/02/2021.ipynb",
      "provenance": [],
      "collapsed_sections": [],
      "authorship_tag": "ABX9TyPILIsEvokUEZQTURfvJ+9v",
      "include_colab_link": true
    },
    "kernelspec": {
      "display_name": "Python 3",
      "name": "python3"
    }
  },
  "cells": [
    {
      "cell_type": "markdown",
      "metadata": {
        "id": "view-in-github",
        "colab_type": "text"
      },
      "source": [
        "<a href=\"https://colab.research.google.com/github/Dakshayini20/Yamaha/blob/main/day6_03_02_2021.ipynb\" target=\"_parent\"><img src=\"https://colab.research.google.com/assets/colab-badge.svg\" alt=\"Open In Colab\"/></a>"
      ]
    },
    {
      "cell_type": "markdown",
      "metadata": {
        "id": "8hfZwko_555i"
      },
      "source": [
        "# Concept of User defined function in Main function"
      ]
    },
    {
      "cell_type": "code",
      "metadata": {
        "colab": {
          "background_save": true,
          "base_uri": "https://localhost:8080/"
        },
        "id": "K1bR89kxZHk8",
        "outputId": "b0d4d197-b5e3-44ea-c2bb-60d3cd190650"
      },
      "source": [
        "def fun(string) :\r\n",
        "    return f\"Python course by Tech Table, {string}\"  #usage of F-string\r\n",
        "def add(a1,a2) :\r\n",
        "    return a1+a2+10\r\n",
        "if __name__ == '__main__':    #main function\r\n",
        " print(fun(\"an E-learning platform\"))\r\n",
        " a = add(10,20)\r\n",
        " print(a)"
      ],
      "execution_count": null,
      "outputs": [
        {
          "output_type": "stream",
          "text": [
            "Python course by Tech Table, an E-learning platform\n",
            "40\n"
          ],
          "name": "stdout"
        }
      ]
    },
    {
      "cell_type": "markdown",
      "metadata": {
        "id": "w_IdZHIY53R8"
      },
      "source": [
        "# CONCEPT OF CLASSES AND OBJECTS"
      ]
    },
    {
      "cell_type": "code",
      "metadata": {
        "colab": {
          "base_uri": "https://localhost:8080/"
        },
        "id": "8a_IMn4SOz1A",
        "outputId": "b1fa8fda-0e18-44f1-d17f-7c4ce4145c0b"
      },
      "source": [
        "class student:\r\n",
        "    pass\r\n",
        "    no_of_student = 5\r\n",
        "  #INSTANTATION, creation of objects\r\n",
        "one = student()      #here one and two are the objects of class type student\r\n",
        "two = student()\r\n",
        "one.name = \"Anu\"     #name,std and sections are the the attributes of class\r\n",
        "one.std = \"10\"\r\n",
        "one.section = \"A\"\r\n",
        "two.name = \"Riya\"\r\n",
        "two.section = \"B\"\r\n",
        "two.std =\"2\"\r\n",
        "two.sub = [\"Science\", \"Maths\",\"English\"]\r\n",
        "print(one.name)\r\n",
        "print(two.name)\r\n",
        "print(one.std)\r\n",
        "print(two.std)\r\n",
        "print(one.section)\r\n",
        "print(two.section)"
      ],
      "execution_count": null,
      "outputs": [
        {
          "output_type": "stream",
          "text": [
            "Anu\n",
            "Riya\n",
            "10\n",
            "2\n",
            "A\n",
            "B\n"
          ],
          "name": "stdout"
        }
      ]
    },
    {
      "cell_type": "code",
      "metadata": {
        "colab": {
          "base_uri": "https://localhost:8080/"
        },
        "id": "qPJ3kbTRPl5R",
        "outputId": "75c313a7-d123-4fb3-8cf5-711be6f40684"
      },
      "source": [
        "class student:\r\n",
        "    no_of_student = 5\r\n",
        "    def __init__(self,aname,astd,asection):        #constructor\r\n",
        "        self.name = aname\r\n",
        "        self.std = astd\r\n",
        "        self.section = asection\r\n",
        "\r\n",
        "one = student(\"Riya\",10,\"A\")\r\n",
        "two = student(\"Anu\",2,\"B\")\r\n",
        "print(one.name)\r\n",
        "print(two.name)\r\n",
        "print(one.std)\r\n",
        "print(two.std)\r\n",
        "print(one.section)\r\n",
        "print(two.section)"
      ],
      "execution_count": null,
      "outputs": [
        {
          "output_type": "stream",
          "text": [
            "Riya\n",
            "Anu\n",
            "10\n",
            "2\n",
            "A\n",
            "B\n"
          ],
          "name": "stdout"
        }
      ]
    },
    {
      "cell_type": "markdown",
      "metadata": {
        "id": "VWfmx0gORFdN"
      },
      "source": [
        "# Concepts of ACCESS SPECIFIERS(Public,protected and Private)"
      ]
    },
    {
      "cell_type": "code",
      "metadata": {
        "colab": {
          "base_uri": "https://localhost:8080/"
        },
        "id": "LaBRnhCfQnvC",
        "outputId": "dad66edf-179c-40fd-e735-562766def35e"
      },
      "source": [
        "class student:\r\n",
        "    # class variable\r\n",
        "    no_of_subjects = 50        #public class variable\r\n",
        "    _no_of_subjects = 40       #protected class variable\r\n",
        "    __no_of_subjects = 30      #private class variable\r\n",
        "\r\n",
        "    def __init__(self, aname, astandard, asection):    #constructor\r\n",
        "        self.name = aname                 \r\n",
        "        self.standard = astandard\r\n",
        "        self.section = asection\r\n",
        "\r\n",
        "    def details(self):                              #member function of class student\r\n",
        "        return f\"Name is {self.name},standard is {self.standard}\"\r\n",
        "        #instantation\r\n",
        "one = student(\"Yamuna\",10,\"A\")            # one and two are instants of class student\r\n",
        "two = student(\"Buvana\",7,\"B\")\r\n",
        "    #printing public variable of class student can be accessed by anywhere in the program\r\n",
        "print(one.no_of_subjects)\r\n",
        "   #printing protected variable of class student can be accessed within the object of same class type\r\n",
        "print(one._no_of_subjects)\r\n",
        "    #printing private variable of class student can only be accessed within the same class\r\n",
        "    # can't be accessed  anywhere in the program and not even within the object of same class type\r\n",
        "#print(one.__no_of_subjects)       #code gives error\r\n",
        "\r\n",
        "   #to print the private variables of any class the syntax is\r\n",
        "print(one._student__no_of_subjects) # know as NAME MANGLING"
      ],
      "execution_count": null,
      "outputs": [
        {
          "output_type": "stream",
          "text": [
            "50\n",
            "40\n",
            "30\n"
          ],
          "name": "stdout"
        }
      ]
    },
    {
      "cell_type": "markdown",
      "metadata": {
        "id": "A3J1nMwgRuOh"
      },
      "source": [
        "# Concepts of POLYMORPHISM"
      ]
    },
    {
      "cell_type": "code",
      "metadata": {
        "colab": {
          "base_uri": "https://localhost:8080/"
        },
        "id": "O6ZYK8GyRm0a",
        "outputId": "ee9bdae5-2661-40fa-abf3-219bf5a04f9d"
      },
      "source": [
        "print(2+2)\r\n",
        "print(\"2\"+\"2\")"
      ],
      "execution_count": null,
      "outputs": [
        {
          "output_type": "stream",
          "text": [
            "4\n",
            "22\n"
          ],
          "name": "stdout"
        }
      ]
    },
    {
      "cell_type": "markdown",
      "metadata": {
        "id": "tKi3FzalR65Q"
      },
      "source": [
        "# Concepts of INHERITENCE"
      ]
    },
    {
      "cell_type": "code",
      "metadata": {
        "colab": {
          "base_uri": "https://localhost:8080/"
        },
        "id": "MNTvJ7AvR0Y7",
        "outputId": "5712241c-26e4-4499-b952-7e69ee9eaf5b"
      },
      "source": [
        "class student :\r\n",
        "    no_of_subjects = 5    #class variable\r\n",
        "    def __init__(self,aname,astandard,asection):\r\n",
        "        self.name = aname\r\n",
        "        self.standard = astandard\r\n",
        "        self.section = asection\r\n",
        "\r\n",
        "    def details_of_student(self):\r\n",
        "        return f\"Name is {self.name},standard is {self.standard}\"\r\n",
        "\r\n",
        "class teacher(student):                             #teacher class is Inheriting the propeties of student class\r\n",
        "    no_of_working_hours = 12\r\n",
        "    def __init__(self,aname,astandard,asection,asalary):\r\n",
        "        self.name = aname\r\n",
        "        self.standard = astandard\r\n",
        "        self.section = asection\r\n",
        "        self.salary = asalary\r\n",
        "    def details_of_teacher(self):\r\n",
        "        return f\"Name of the teacher is {self.name},standard is {self.standard},salary is {self.salary}\"\r\n",
        "\r\n",
        "       #INSTATIATION , creating of objects\r\n",
        "\r\n",
        "one = student(\"YAMUNA\",2,\"A\")       #one and two are the INSTANTS of class student\r\n",
        "two = student(\"SINCHANA\",8,\"B\")\r\n",
        "\r\n",
        "three = teacher(\"SHAMBHAVI\",10,\"A\",50000)     #three and Four are the INSTANTS of class teacher\r\n",
        "four = teacher(\"GUPTHA\", \"12\",\"B\",50000)\r\n",
        "\r\n",
        "\r\n",
        "print(three.name)\r\n",
        "print(four.name)\r\n",
        "print(three.no_of_working_hours)\r\n",
        "\r\n",
        "\r\n",
        "print(one.details_of_student())         \r\n",
        "print(two.details_of_student())\r\n",
        "\r\n",
        "print(three.details_of_teacher())\r\n",
        "print(four.details_of_teacher())\r\n",
        "\r\n",
        "print(three.no_of_subjects)        #inheritence of student class variable in the teacher class\r\n"
      ],
      "execution_count": null,
      "outputs": [
        {
          "output_type": "stream",
          "text": [
            "SHAMBHAVI\n",
            "GUPTHA\n",
            "12\n",
            "Name is YAMUNA,standard is 2\n",
            "Name is SINCHANA,standard is 8\n",
            "Name of the teacher is SHAMBHAVI,standard is 10,salary is 50000\n",
            "Name of the teacher is GUPTHA,standard is 12,salary is 50000\n",
            "5\n"
          ],
          "name": "stdout"
        }
      ]
    },
    {
      "cell_type": "code",
      "metadata": {
        "id": "WEEaOPO7S2Vm"
      },
      "source": [
        ""
      ],
      "execution_count": null,
      "outputs": []
    }
  ]
}