{
  "nbformat": 4,
  "nbformat_minor": 0,
  "metadata": {
    "colab": {
      "name": "day3_27/12/2020.ipynb",
      "provenance": [],
      "collapsed_sections": [],
      "authorship_tag": "ABX9TyOkvUYzxqzr2TevgKPCPQUW",
      "include_colab_link": true
    },
    "kernelspec": {
      "name": "python3",
      "display_name": "Python 3"
    }
  },
  "cells": [
    {
      "cell_type": "markdown",
      "metadata": {
        "id": "view-in-github",
        "colab_type": "text"
      },
      "source": [
        "<a href=\"https://colab.research.google.com/github/Dakshayini20/Yamaha/blob/main/day3_27_12_2020.ipynb\" target=\"_parent\"><img src=\"https://colab.research.google.com/assets/colab-badge.svg\" alt=\"Open In Colab\"/></a>"
      ]
    },
    {
      "cell_type": "code",
      "metadata": {
        "colab": {
          "base_uri": "https://localhost:8080/"
        },
        "id": "KpL6bnKqU6Gx",
        "outputId": "ae08dbe5-a8a4-4cdd-8a27-9060f5420d07"
      },
      "source": [
        "a = 1\r\n",
        "b = \"10\"\r\n",
        "b = int(b)\r\n",
        "sum = a+b\r\n",
        "print(type(sum), sum)"
      ],
      "execution_count": null,
      "outputs": [
        {
          "output_type": "stream",
          "text": [
            "<class 'int'> 11\n"
          ],
          "name": "stdout"
        }
      ]
    },
    {
      "cell_type": "markdown",
      "metadata": {
        "id": "wuPq2cVfPPhs"
      },
      "source": [
        "## STRING SLICING"
      ]
    },
    {
      "cell_type": "code",
      "metadata": {
        "colab": {
          "base_uri": "https://localhost:8080/"
        },
        "id": "3QuyViQGWMNz",
        "outputId": "285131da-8112-4465-db1f-e036335ebbef"
      },
      "source": [
        "my_str = \"Welcome to python class\"  #Sting slicing\r\n",
        "print(len(my_str))  #length of string\r\n",
        "print(my_str[0:25]) #print string from 0th indext to 24th index\r\n",
        "print(my_str[0:26]) #print string from 0th indext to full index\r\n",
        "print(my_str[:8])   #defaultly it takes 0th index to 7th index\r\n",
        "print(my_str[0:23:])\r\n",
        "print(my_str[0:23:2])\r\n",
        "print(my_str[0:4:2])\r\n",
        "print(my_str[0:23:23])\r\n",
        "print(my_str[0::])\r\n",
        "print(my_str[::-1])  #reverse string\r\n",
        "\r\n"
      ],
      "execution_count": null,
      "outputs": [
        {
          "output_type": "stream",
          "text": [
            "23\n",
            "Welcome to python class\n",
            "Welcome to python class\n",
            "Welcome \n",
            "Welcome to python class\n",
            "Wloet yhncas\n",
            "Wl\n",
            "W\n",
            "Welcome to python class\n",
            "ssalc nohtyp ot emocleW\n"
          ],
          "name": "stdout"
        }
      ]
    },
    {
      "cell_type": "markdown",
      "metadata": {
        "id": "UEhblppmPfPX"
      },
      "source": [
        "## STRING FUNCTIONS"
      ]
    },
    {
      "cell_type": "code",
      "metadata": {
        "colab": {
          "base_uri": "https://localhost:8080/"
        },
        "id": "BECT1laOWnlO",
        "outputId": "89005bf7-fd9a-4996-ee82-2ea706271924"
      },
      "source": [
        "my_str = \"Welcome to python class\"\r\n",
        "print(my_str.isalnum())  #function to say whether it is alphnumeric string\r\n",
        "my_str1 = \"Welcome1class\"\r\n",
        "print(my_str1.isalnum())\r\n",
        "my_str2 = \"Welcome class\"\r\n",
        "print(my_str2.isalnum())\r\n",
        "\r\n",
        "print(my_str.endswith(\"class\"))\r\n",
        "\r\n",
        "print(my_str.count(\"c\"))     #gives count of c in my_str\r\n",
        "my_str4 = \"WELCOME to class\"           \r\n",
        "print(my_str4.lower())        # .lower() function converts into lower letters\r\n",
        "print(my_str4.upper())         # .upper() function converts into upper letters"
      ],
      "execution_count": null,
      "outputs": [
        {
          "output_type": "stream",
          "text": [
            "False\n",
            "True\n",
            "False\n",
            "True\n",
            "2\n",
            "welcome to class\n",
            "WELCOME TO CLASS\n"
          ],
          "name": "stdout"
        }
      ]
    },
    {
      "cell_type": "code",
      "metadata": {
        "colab": {
          "base_uri": "https://localhost:8080/"
        },
        "id": "qsFL1cbRc94M",
        "outputId": "28bf6629-1906-455c-b647-f5ea5ee1599b"
      },
      "source": [
        "universe = [\"stars\", \"planent\",\"satellites\" , \"comets\"]\r\n",
        "print(universe)\r\n",
        "print(universe[0],universe[2] )"
      ],
      "execution_count": null,
      "outputs": [
        {
          "output_type": "stream",
          "text": [
            "['stars', 'planent', 'satellites', 'comets']\n",
            "stars satellites\n"
          ],
          "name": "stdout"
        }
      ]
    },
    {
      "cell_type": "code",
      "metadata": {
        "colab": {
          "base_uri": "https://localhost:8080/"
        },
        "id": "VJPQ6cGjhEx8",
        "outputId": "6e62ec31-cdcd-4fd6-806a-c0f85a8565b5"
      },
      "source": [
        "numbers = [2,4,6,1,0]\r\n",
        "print(numbers)\r\n",
        "print(numbers[3])\r\n",
        "numbers.sort()        #Arranging list in acending order \r\n",
        "print(numbers)\r\n",
        "numbers[::-1]        #Arranging list in decending order \r\n",
        "\r\n"
      ],
      "execution_count": null,
      "outputs": [
        {
          "output_type": "stream",
          "text": [
            "[2, 4, 6, 1, 0]\n",
            "1\n",
            "[0, 1, 2, 4, 6]\n"
          ],
          "name": "stdout"
        },
        {
          "output_type": "execute_result",
          "data": {
            "text/plain": [
              "[6, 4, 2, 1, 0]"
            ]
          },
          "metadata": {
            "tags": []
          },
          "execution_count": 58
        }
      ]
    },
    {
      "cell_type": "code",
      "metadata": {
        "id": "915J0BEqirBz"
      },
      "source": [
        ""
      ],
      "execution_count": null,
      "outputs": []
    },
    {
      "cell_type": "code",
      "metadata": {
        "colab": {
          "base_uri": "https://localhost:8080/"
        },
        "id": "-H1fJnG1hseX",
        "outputId": "e2a7ee3b-f0e3-4656-8731-c9f92bfb2c42"
      },
      "source": [
        "numbers = [2,4,6,1,0]\r\n",
        "print(max(numbers))      #find maximum number in list\r\n",
        "print(min(numbers))      #find minimum num in list\r\n",
        "numbers.append(22)       #append at last\r\n",
        "print((numbers))\r\n",
        "numbers.remove(4)        # list_name.remove(4) function remove nummber from list\r\n",
        "print((numbers))"
      ],
      "execution_count": null,
      "outputs": [
        {
          "output_type": "stream",
          "text": [
            "6\n",
            "0\n",
            "[2, 4, 6, 1, 0, 22]\n",
            "[2, 6, 1, 0, 22]\n"
          ],
          "name": "stdout"
        }
      ]
    },
    {
      "cell_type": "code",
      "metadata": {
        "colab": {
          "base_uri": "https://localhost:8080/"
        },
        "id": "hPAXUySejHLE",
        "outputId": "2f7a5eaa-c313-43a2-bc9c-d2b12836c619"
      },
      "source": [
        "tup = (1,2,3,4)      #tupple concept denoted using ()\r\n",
        "print(tup)"
      ],
      "execution_count": null,
      "outputs": [
        {
          "output_type": "stream",
          "text": [
            "(1, 2, 3, 4)\n"
          ],
          "name": "stdout"
        }
      ]
    },
    {
      "cell_type": "markdown",
      "metadata": {
        "id": "iD3h1Lw3PnTz"
      },
      "source": [
        "## SWAPPING OF CONTENTS"
      ]
    },
    {
      "cell_type": "code",
      "metadata": {
        "colab": {
          "base_uri": "https://localhost:8080/"
        },
        "id": "SJcJxbyDk0Bv",
        "outputId": "93180672-8569-489d-eca7-fd9c5d08a1d7"
      },
      "source": [
        "a = 1                #swapping contents in variables\r\n",
        "b = 2\r\n",
        "print(a,b)\r\n",
        "a,b = b,a\r\n",
        "print(a,b)"
      ],
      "execution_count": null,
      "outputs": [
        {
          "output_type": "stream",
          "text": [
            "1 2\n",
            "2 1\n"
          ],
          "name": "stdout"
        }
      ]
    },
    {
      "cell_type": "code",
      "metadata": {
        "id": "dWP-Qy2QllR_"
      },
      "source": [
        ""
      ],
      "execution_count": null,
      "outputs": []
    }
  ]
}